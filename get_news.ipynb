{
 "cells": [
  {
   "cell_type": "code",
   "execution_count": 45,
   "metadata": {},
   "outputs": [],
   "source": [
    "import pandas as pd\n",
    "import json\n",
    "import newspaper\n",
    "from newspaper.utils import BeautifulSoup\n",
    "\n",
    "newspapers = pd.read_csv('newspaper_data.csv')"
   ]
  },
  {
   "cell_type": "code",
   "execution_count": 5,
   "metadata": {},
   "outputs": [],
   "source": [
    "name_websiste = newspapers[['info_Nombre de la publicación aprobada por el Indautor', 'info_Página electrónica']]"
   ]
  },
  {
   "cell_type": "code",
   "execution_count": 9,
   "metadata": {},
   "outputs": [],
   "source": [
    "name_websiste.drop_duplicates('info_Página electrónica', inplace = True)\n",
    "name_websiste.dropna(inplace=True)"
   ]
  },
  {
   "cell_type": "code",
   "execution_count": 13,
   "metadata": {},
   "outputs": [],
   "source": [
    "name_websiste['info_Página electrónica'] = 'http://' + name_websiste['info_Página electrónica'].str.strip(' ')"
   ]
  },
  {
   "cell_type": "code",
   "execution_count": 33,
   "metadata": {},
   "outputs": [
    {
     "data": {
      "text/html": [
       "<div>\n",
       "<style scoped>\n",
       "    .dataframe tbody tr th:only-of-type {\n",
       "        vertical-align: middle;\n",
       "    }\n",
       "\n",
       "    .dataframe tbody tr th {\n",
       "        vertical-align: top;\n",
       "    }\n",
       "\n",
       "    .dataframe thead th {\n",
       "        text-align: right;\n",
       "    }\n",
       "</style>\n",
       "<table border=\"1\" class=\"dataframe\">\n",
       "  <thead>\n",
       "    <tr style=\"text-align: right;\">\n",
       "      <th></th>\n",
       "      <th>info_Nombre de la publicación aprobada por el Indautor</th>\n",
       "      <th>info_Página electrónica</th>\n",
       "    </tr>\n",
       "  </thead>\n",
       "  <tbody>\n",
       "    <tr>\n",
       "      <th>0</th>\n",
       "      <td>AGUASCALIENTES EL HERALDO</td>\n",
       "      <td>http://www.heraldo.mx</td>\n",
       "    </tr>\n",
       "    <tr>\n",
       "      <th>1</th>\n",
       "      <td>EL SOL DEL CENTRO</td>\n",
       "      <td>http://www.elsoldelcentro.com.mx</td>\n",
       "    </tr>\n",
       "    <tr>\n",
       "      <th>2</th>\n",
       "      <td>MIÉRCOLES DE EL CIRCO</td>\n",
       "      <td>http://www.noticieroelcirco.mx</td>\n",
       "    </tr>\n",
       "    <tr>\n",
       "      <th>3</th>\n",
       "      <td>EL MEXICANO GRAN DIARIO REGIONAL</td>\n",
       "      <td>http://www.el-mexicano.com.mx</td>\n",
       "    </tr>\n",
       "    <tr>\n",
       "      <th>7</th>\n",
       "      <td>EL SOL DE TIJUANA</td>\n",
       "      <td>http://www.elsoldetijuana.com.mx</td>\n",
       "    </tr>\n",
       "  </tbody>\n",
       "</table>\n",
       "</div>"
      ],
      "text/plain": [
       "  info_Nombre de la publicación aprobada por el Indautor  \\\n",
       "0                          AGUASCALIENTES EL HERALDO       \n",
       "1                                  EL SOL DEL CENTRO       \n",
       "2                              MIÉRCOLES DE EL CIRCO       \n",
       "3                   EL MEXICANO GRAN DIARIO REGIONAL       \n",
       "7                                  EL SOL DE TIJUANA       \n",
       "\n",
       "            info_Página electrónica  \n",
       "0             http://www.heraldo.mx  \n",
       "1  http://www.elsoldelcentro.com.mx  \n",
       "2    http://www.noticieroelcirco.mx  \n",
       "3     http://www.el-mexicano.com.mx  \n",
       "7  http://www.elsoldetijuana.com.mx  "
      ]
     },
     "execution_count": 33,
     "metadata": {},
     "output_type": "execute_result"
    }
   ],
   "source": [
    "name_websiste.iloc[0:5]"
   ]
  },
  {
   "cell_type": "code",
   "execution_count": 61,
   "metadata": {},
   "outputs": [],
   "source": [
    "from newspaper import Config\n",
    "from newspaper import Article\n",
    "config = Config()\n",
    "test_paper = newspaper.build(name_websiste['info_Página electrónica'][0], config=config, memoize_articles=False, language='es')\n"
   ]
  },
  {
   "cell_type": "code",
   "execution_count": 70,
   "metadata": {},
   "outputs": [
    {
     "name": "stdout",
     "output_type": "stream",
     "text": [
      "https://www.heraldo.mx/quieren-poner-su-taller/\n",
      "https://www.heraldo.mx/hay-obras-en-espera/\n",
      "https://www.heraldo.mx/taxis-piratas-son-una-amenaza/\n",
      "https://www.heraldo.mx/visitarlos-no-sera-tan-complicado/\n",
      "https://www.heraldo.mx/esperan-ser-fortalecidos/\n",
      "https://www.heraldo.mx/no-pueden-probar-que-tengo-vinculos-con-el-crimen-amlo/\n",
      "https://www.heraldo.mx/encareceran-maiz-y-otros-alimentos/\n",
      "https://www.heraldo.mx/cubren-subsidios-a-65-de-hogares-en-mexico/\n",
      "https://www.heraldo.mx/critican-descuido-a-males-renales/\n",
      "https://www.heraldo.mx/crece-desafio-de-refugiados-en-mexico/\n",
      "https://www.heraldo.mx/capitaliza-morena-el-gasto-social/\n",
      "https://www.heraldo.mx/murio-arrollado-2/\n",
      "https://www.heraldo.mx/tambien-participo-un-menor/\n",
      "https://www.heraldo.mx/mal-termino-la-fiesta-4/\n",
      "https://www.heraldo.mx/volco-y-huyo-10/\n",
      "https://www.heraldo.mx/fue-tremendo-el-susto/\n",
      "https://www.heraldo.mx/programa-doble-netflix-7/\n",
      "https://www.heraldo.mx/capsulas-20-de-junio-3/\n",
      "https://www.heraldo.mx/pausa-con-oswaldo-barra-cunningham/\n",
      "https://www.heraldo.mx/el-fin-de-la-guerra-del-whiskey/\n",
      "https://www.heraldo.mx/escalpelo-20-de-junio-6/\n",
      "https://www.heraldo.mx/quiere-necaxa-un-refuerzo-mas/\n",
      "https://www.heraldo.mx/se-corona-mexico-en-panamericano-de-beisbol-u23/\n",
      "https://www.heraldo.mx/premian-a-lo-mejor-del-torneo/\n",
      "https://www.heraldo.mx/anuncian-2-congreso-internacional-de-handball-mx/\n",
      "https://www.heraldo.mx/contundente-triunfo-de-mexico/\n",
      "https://www.heraldo.mx/cierran-el-ficg-los-tigres-del-norte/\n",
      "https://www.heraldo.mx/celebraron-famosos-el-dia-del-padre/\n",
      "https://www.heraldo.mx/esconden-resultado-de-investigacion-sobre-meghan/\n",
      "https://www.heraldo.mx/pasa-lori-de-prision-a-la-alfombra-roja/\n",
      "https://www.heraldo.mx/vuelve-sharis-cid-a-la-actuacion/\n",
      "https://www.heraldo.mx/que-es-discord-y-por-que-es-tan-popular-entre-estudiantes/\n",
      "https://www.heraldo.mx/buscas-trabajo-cuida-tus-redes/\n",
      "https://www.heraldo.mx/esta-noche-luna-de-gala/\n",
      "https://www.heraldo.mx/alerta-caida-de-50-en-mastografias-2/\n",
      "https://www.heraldo.mx/romances-por-internet-son-de-alto-riesgo/\n"
     ]
    }
   ],
   "source": [
    "soup = BeautifulSoup(test_paper.html, 'html.parser')\n",
    "all_news = soup.findAll(\"h3\", class_='td-module-title')\n",
    "for article in all_news:\n",
    "    for i in article.find_all('a'):\n",
    "        if i.has_attr('href'):\n",
    "            print(i['href'])\n"
   ]
  },
  {
   "cell_type": "code",
   "execution_count": 71,
   "metadata": {},
   "outputs": [
    {
     "name": "stdout",
     "output_type": "stream",
     "text": [
      "Pagan alto costo por los conflictos\n",
      "[]\n",
      "La coordinadora del Observatorio de Violencia Social y de Género, Violeta Sabás Díaz de León denunció que las mujeres en Aguascalientes padecen de violencia sexual ligada al desplazamiento forzado y a la explotación laboral. Esto, el marco de la conmemoración del Día Internacional para la Eliminación de la Violencia Sexual en los Conflictos que se celebró este domingo 19 de junio.\n",
      "\n",
      "La activista comentó que estos fenómenos suelen ocurrir donde hay conflictos armados, en una zona de guerra o de rebelión social. Sin embargo, consideró que la violencia contra las mujeres en momentos de conflicto tiene que entenderse de manera más amplia y profunda porque trasciende y casi siempre va a ser de índole sexual.\n",
      "\n",
      "Detalló que en Aguascalientes se da el caso de grupos de mujeres que son orilladas a un desplazamiento forzado y que a raíz de ello se genera o se agudiza la violencia sexual contra las niñas, adolescentes y mujeres que están siendo víctimas. “No es la migración en sí, sino todos los conflictos que vienen atrás de que estas personas de manera forzada se tengan que desplazar por la explotación laboral”.\n",
      "\n",
      "Asimismo, recordó que por Aguascalientes tradicionalmente es un lugar de tránsito de los migrantes, como se vio en la crisis de diciembre pasado, cuando miles de centroamericanos, -y particularmente de haitianos-, cruzaban rumbo a Tijuana. Recordó que muchas de las mujeres que forman parte de esos grupos no lograron llegar hasta el norte del país y terminaron por quedarse aquí, volviéndose, –por su condición-, vulnerables a la violencia sexual.\n",
      "\n",
      "¡Participa con tu opinión!\n",
      "2022-06-20T14:02:41-05:00\n"
     ]
    }
   ],
   "source": [
    "base_url = 'https://www.heraldo.mx/pagan-alto-costo-por-los-conflictos/'\n",
    "article = Article(base_url, config=config)\n",
    "article.download()\n",
    "article.parse()\n",
    "\n",
    "print(article.title)\n",
    "print(article.authors)\n",
    "print(article.text)\n",
    "\n",
    "article_meta_data = article.meta_data\n",
    "\n",
    "# print(article_meta_data)\n",
    "\n",
    "soup = BeautifulSoup(article.html, 'html.parser')\n",
    "sample_dictionary = json.loads(\"\".join(soup.find(\"script\", {\"type\":\"application/ld+json\"}).contents))\n",
    "\n",
    "for i in soup.findAll('time'):\n",
    "        if i.has_attr('datetime'):\n",
    "            print(i['datetime'])\n",
    "\n"
   ]
  },
  {
   "cell_type": "code",
   "execution_count": 25,
   "metadata": {},
   "outputs": [
    {
     "name": "stdout",
     "output_type": "stream",
     "text": [
      "0\n"
     ]
    }
   ],
   "source": [
    "from newspaper import Source\n",
    "cnn_paper = Source('http://cnn.com')\n",
    "print(cnn_paper.size())"
   ]
  },
  {
   "cell_type": "code",
   "execution_count": 26,
   "metadata": {},
   "outputs": [
    {
     "name": "stdout",
     "output_type": "stream",
     "text": [
      "544\n"
     ]
    }
   ],
   "source": [
    "cnn_paper.build()\n",
    "print(cnn_paper.size())"
   ]
  },
  {
   "cell_type": "code",
   "execution_count": null,
   "metadata": {},
   "outputs": [],
   "source": []
  }
 ],
 "metadata": {
  "interpreter": {
   "hash": "2bee0f5d2b2299c7efc5e1aad24d8527839c84ef4c541ab92d5df4396e3afe4d"
  },
  "kernelspec": {
   "display_name": "Python 3.8.8 ('env': venv)",
   "language": "python",
   "name": "python3"
  },
  "language_info": {
   "codemirror_mode": {
    "name": "ipython",
    "version": 3
   },
   "file_extension": ".py",
   "mimetype": "text/x-python",
   "name": "python",
   "nbconvert_exporter": "python",
   "pygments_lexer": "ipython3",
   "version": "3.8.8"
  },
  "orig_nbformat": 4
 },
 "nbformat": 4,
 "nbformat_minor": 2
}
