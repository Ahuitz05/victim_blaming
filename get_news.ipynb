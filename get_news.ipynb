{
 "cells": [
  {
   "cell_type": "code",
   "execution_count": 51,
   "metadata": {},
   "outputs": [],
   "source": [
    "import pandas as pd\n",
    "import newspaper\n",
    "\n",
    "newspapers = pd.read_csv('newspaper_data.csv')"
   ]
  },
  {
   "cell_type": "code",
   "execution_count": 52,
   "metadata": {},
   "outputs": [],
   "source": [
    "newspapers.head()\n",
    "\n",
    "name_websiste = newspapers[['info_Nombre de la publicación aprobada por el Indautor', 'info_Página electrónica']]"
   ]
  },
  {
   "cell_type": "code",
   "execution_count": 53,
   "metadata": {},
   "outputs": [
    {
     "name": "stderr",
     "output_type": "stream",
     "text": [
      "/var/folders/t6/ys3pkxyj7qvfq4wxzcpdhw680000gn/T/ipykernel_57873/3294094952.py:1: SettingWithCopyWarning: \n",
      "A value is trying to be set on a copy of a slice from a DataFrame\n",
      "\n",
      "See the caveats in the documentation: https://pandas.pydata.org/pandas-docs/stable/user_guide/indexing.html#returning-a-view-versus-a-copy\n",
      "  name_websiste.drop_duplicates('info_Página electrónica', inplace = True)\n"
     ]
    }
   ],
   "source": [
    "name_websiste.drop_duplicates('info_Página electrónica', inplace = True)\n",
    "name_websiste = name_websiste.dropna()"
   ]
  },
  {
   "cell_type": "code",
   "execution_count": 94,
   "metadata": {},
   "outputs": [
    {
     "data": {
      "text/html": [
       "<div>\n",
       "<style scoped>\n",
       "    .dataframe tbody tr th:only-of-type {\n",
       "        vertical-align: middle;\n",
       "    }\n",
       "\n",
       "    .dataframe tbody tr th {\n",
       "        vertical-align: top;\n",
       "    }\n",
       "\n",
       "    .dataframe thead th {\n",
       "        text-align: right;\n",
       "    }\n",
       "</style>\n",
       "<table border=\"1\" class=\"dataframe\">\n",
       "  <thead>\n",
       "    <tr style=\"text-align: right;\">\n",
       "      <th></th>\n",
       "      <th>info_Nombre de la publicación aprobada por el Indautor</th>\n",
       "      <th>info_Página electrónica</th>\n",
       "    </tr>\n",
       "  </thead>\n",
       "  <tbody>\n",
       "    <tr>\n",
       "      <th>0</th>\n",
       "      <td>AGUASCALIENTES EL HERALDO</td>\n",
       "      <td>www.heraldo.mx</td>\n",
       "    </tr>\n",
       "    <tr>\n",
       "      <th>1</th>\n",
       "      <td>EL SOL DEL CENTRO</td>\n",
       "      <td>www.elsoldelcentro.com.mx</td>\n",
       "    </tr>\n",
       "    <tr>\n",
       "      <th>2</th>\n",
       "      <td>MIÉRCOLES DE EL CIRCO</td>\n",
       "      <td>www.noticieroelcirco.mx</td>\n",
       "    </tr>\n",
       "    <tr>\n",
       "      <th>3</th>\n",
       "      <td>EL MEXICANO GRAN DIARIO REGIONAL</td>\n",
       "      <td>www.el-mexicano.com.mx</td>\n",
       "    </tr>\n",
       "    <tr>\n",
       "      <th>7</th>\n",
       "      <td>EL SOL DE TIJUANA</td>\n",
       "      <td>www.elsoldetijuana.com.mx</td>\n",
       "    </tr>\n",
       "    <tr>\n",
       "      <th>...</th>\n",
       "      <td>...</td>\n",
       "      <td>...</td>\n",
       "    </tr>\n",
       "    <tr>\n",
       "      <th>315</th>\n",
       "      <td>EL SOL DE ZACATECAS</td>\n",
       "      <td>www.elsoldezacatecas.com.mx</td>\n",
       "    </tr>\n",
       "    <tr>\n",
       "      <th>316</th>\n",
       "      <td>JUICIOS Y HECHOS</td>\n",
       "      <td>www.juiciosyhechos.com</td>\n",
       "    </tr>\n",
       "    <tr>\n",
       "      <th>317</th>\n",
       "      <td>LA JORNADA ZACATECAS</td>\n",
       "      <td>www.ljz.mx</td>\n",
       "    </tr>\n",
       "    <tr>\n",
       "      <th>318</th>\n",
       "      <td>MI TIERRA ESTA DONDE LOS DEMAS NO LLEGAN</td>\n",
       "      <td>www.periodicomitierra.mx</td>\n",
       "    </tr>\n",
       "    <tr>\n",
       "      <th>319</th>\n",
       "      <td>ZACATECAS EN IMAGEN</td>\n",
       "      <td>www.imagenzac.com.mx</td>\n",
       "    </tr>\n",
       "  </tbody>\n",
       "</table>\n",
       "<p>221 rows × 2 columns</p>\n",
       "</div>"
      ],
      "text/plain": [
       "    info_Nombre de la publicación aprobada por el Indautor  \\\n",
       "0                            AGUASCALIENTES EL HERALDO       \n",
       "1                                    EL SOL DEL CENTRO       \n",
       "2                                MIÉRCOLES DE EL CIRCO       \n",
       "3                     EL MEXICANO GRAN DIARIO REGIONAL       \n",
       "7                                    EL SOL DE TIJUANA       \n",
       "..                                                 ...       \n",
       "315                                EL SOL DE ZACATECAS       \n",
       "316                                   JUICIOS Y HECHOS       \n",
       "317                               LA JORNADA ZACATECAS       \n",
       "318           MI TIERRA ESTA DONDE LOS DEMAS NO LLEGAN       \n",
       "319                                ZACATECAS EN IMAGEN       \n",
       "\n",
       "          info_Página electrónica  \n",
       "0                  www.heraldo.mx  \n",
       "1       www.elsoldelcentro.com.mx  \n",
       "2         www.noticieroelcirco.mx  \n",
       "3          www.el-mexicano.com.mx  \n",
       "7       www.elsoldetijuana.com.mx  \n",
       "..                            ...  \n",
       "315   www.elsoldezacatecas.com.mx  \n",
       "316        www.juiciosyhechos.com  \n",
       "317                    www.ljz.mx  \n",
       "318      www.periodicomitierra.mx  \n",
       "319          www.imagenzac.com.mx  \n",
       "\n",
       "[221 rows x 2 columns]"
      ]
     },
     "execution_count": 94,
     "metadata": {},
     "output_type": "execute_result"
    }
   ],
   "source": [
    "name_websiste"
   ]
  },
  {
   "cell_type": "code",
   "execution_count": 87,
   "metadata": {},
   "outputs": [],
   "source": [
    "test_paper = newspaper.build('http://' + name_websiste['info_Página electrónica'][0].strip(' '), memoize_articles=False)"
   ]
  },
  {
   "cell_type": "code",
   "execution_count": 91,
   "metadata": {},
   "outputs": [
    {
     "name": "stdout",
     "output_type": "stream",
     "text": [
      "https://www.heraldo.mx/cuenta-la-universidad-cuauhtemoc-aguascalientes-con-el-mejor-centro-de-simulacion-clinica-en-la-region/\n",
      "https://www.heraldo.mx/esta-bien-pero-a-quien-sancionaran/\n",
      "https://www.heraldo.mx/ofrecen-alimento-seguro-y-libre-de-enfermedades/\n",
      "https://www.heraldo.mx/abrio-sus-puertas-un-nuevo-modelo-educativo/\n",
      "https://www.heraldo.mx/prohiben-corridas-en-la-plaza-mexico-por-tiempo-indefinido/\n",
      "https://www.heraldo.mx/eliminara-eu-requisito-de-prueba-covid-a-viajeros-aereos/\n",
      "https://www.heraldo.mx/recibieron-bono-covid-y-ahora-se-los-cobran/\n",
      "https://www.heraldo.mx/arremete-amlo-contra-alianza-no-proponen-estorban/\n",
      "https://www.heraldo.mx/deja-40-luz-cara-y-migra-a-la-solar/\n",
      "https://www.heraldo.mx/arraso-con-una-decena-de-autos/\n",
      "https://www.heraldo.mx/adios-a-tonito-el-hijo-del-hospital-hidalgo/\n",
      "https://www.heraldo.mx/mundo-jurasico-dominio-jurassic-world-dominion/\n",
      "https://www.heraldo.mx/cuatro-rieleros-al-juego-de-las-estrellas/\n",
      "https://www.heraldo.mx/invitan-a-disfrutar-de-las-tardes-de-cafe-culturales/\n",
      "https://www.heraldo.mx/debera-pagar-sabina-2-5-millones-de-euros-a-hacienda/\n",
      "https://www.heraldo.mx/protagonizaran-hayek-y-bichir-pelicula-de-jolie/\n",
      "https://www.heraldo.mx/participaran-en-serie-abogados-de-depp/\n",
      "https://www.heraldo.mx/romances-por-internet-son-de-alto-riesgo/\n",
      "https://www.heraldo.mx/tres-estrategias-para-pagar-tu-credito-infonavit/\n",
      "https://www.heraldo.mx/males-estomacales-a-la-orden-del-dia/\n",
      "https://www.heraldo.mx/trabaja-desde-tu-casa-para-una-firma-internacional/\n",
      "https://www.heraldo.mx/como-anda-en-su-ingesta-de-sodio/\n"
     ]
    }
   ],
   "source": [
    "for article in test_paper.articles:\n",
    "    print(article.url)\n"
   ]
  },
  {
   "cell_type": "code",
   "execution_count": 80,
   "metadata": {},
   "outputs": [
    {
     "data": {
      "text/plain": [
       "70"
      ]
     },
     "execution_count": 80,
     "metadata": {},
     "output_type": "execute_result"
    }
   ],
   "source": [
    "len(test_paper.articles)"
   ]
  },
  {
   "cell_type": "code",
   "execution_count": 92,
   "metadata": {},
   "outputs": [
    {
     "name": "stdout",
     "output_type": "stream",
     "text": [
      "0\n"
     ]
    }
   ],
   "source": [
    "from newspaper import Source\n",
    "cnn_paper = Source('http://cnn.com')\n",
    "print(cnn_paper.size())"
   ]
  },
  {
   "cell_type": "code",
   "execution_count": 93,
   "metadata": {},
   "outputs": [
    {
     "name": "stdout",
     "output_type": "stream",
     "text": [
      "554\n"
     ]
    }
   ],
   "source": [
    "cnn_paper.build()\n",
    "print(cnn_paper.size())"
   ]
  },
  {
   "cell_type": "code",
   "execution_count": null,
   "metadata": {},
   "outputs": [],
   "source": []
  }
 ],
 "metadata": {
  "interpreter": {
   "hash": "2bee0f5d2b2299c7efc5e1aad24d8527839c84ef4c541ab92d5df4396e3afe4d"
  },
  "kernelspec": {
   "display_name": "Python 3.8.8 ('env': venv)",
   "language": "python",
   "name": "python3"
  },
  "language_info": {
   "codemirror_mode": {
    "name": "ipython",
    "version": 3
   },
   "file_extension": ".py",
   "mimetype": "text/x-python",
   "name": "python",
   "nbconvert_exporter": "python",
   "pygments_lexer": "ipython3",
   "version": "3.8.8"
  },
  "orig_nbformat": 4
 },
 "nbformat": 4,
 "nbformat_minor": 2
}
